{
 "cells": [
  {
   "cell_type": "code",
   "execution_count": 3,
   "metadata": {},
   "outputs": [
    {
     "name": "stdout",
     "output_type": "stream",
     "text": [
      "/rds/user/jaf98/hpc-work/accelerate-md\n"
     ]
    }
   ],
   "source": [
    "%cd .."
   ]
  },
  {
   "cell_type": "code",
   "execution_count": 4,
   "metadata": {},
   "outputs": [
    {
     "ename": "IndentationError",
     "evalue": "expected an indented block after 'else' statement on line 67 (parallel_tempering.py, line 69)",
     "output_type": "error",
     "traceback": [
      "Traceback \u001b[36m(most recent call last)\u001b[39m:\n",
      "  File \u001b[92m~/miniforge3/envs/accelmd/lib/python3.11/site-packages/IPython/core/interactiveshell.py:3670\u001b[39m in \u001b[95mrun_code\u001b[39m\n    exec(code_obj, self.user_global_ns, self.user_ns)\n",
      "\u001b[36m  \u001b[39m\u001b[36mCell\u001b[39m\u001b[36m \u001b[39m\u001b[32mIn[4]\u001b[39m\u001b[32m, line 8\u001b[39m\n\u001b[31m    \u001b[39m\u001b[31mfrom src.accelmd.samplers.pt.parallel_tempering import ParallelTempering\u001b[39m\n",
      "  \u001b[36mFile \u001b[39m\u001b[32m/rds/user/jaf98/hpc-work/accelerate-md/src/accelmd/samplers/pt/parallel_tempering.py:69\u001b[39m\n\u001b[31m    \u001b[39m\u001b[31mnew_samples, acc = super(ParallelTempering, self).sample()\u001b[39m\n    ^\n\u001b[31mIndentationError\u001b[39m\u001b[31m:\u001b[39m expected an indented block after 'else' statement on line 67\n"
     ]
    }
   ],
   "source": [
    "import yaml\n",
    "import wandb\n",
    "import torch\n",
    "import numpy as np\n",
    "import matplotlib.pyplot as plt\n",
    "from tqdm import tqdm\n",
    "import os\n",
    "from src.accelmd.samplers.pt.parallel_tempering import ParallelTempering\n",
    "from src.accelmd.samplers.pt.dyn_wrapper import DynSamplerWrapper\n",
    "from src.accelmd.targets.aldp.potential import AldpPotential\n",
    "from src.accelmd.targets.aldp.cartesian import AldpPotentialCart\n",
    "from src.accelmd.targets.gmm import GMM"
   ]
  },
  {
   "cell_type": "code",
   "execution_count": 3,
   "metadata": {},
   "outputs": [
    {
     "name": "stdout",
     "output_type": "stream",
     "text": [
      "/home/jaf98/miniforge3/envs/accelmd/bin/python\n"
     ]
    }
   ],
   "source": [
    "import sys\n",
    "print(sys.executable)"
   ]
  },
  {
   "cell_type": "code",
   "execution_count": 4,
   "metadata": {},
   "outputs": [],
   "source": [
    "# ─── Cell 1 ───\n",
    "# (adjust this path so that `from main.targets.gmm import GMM` works)\n",
    "import sys, os\n",
    "sys.path.append(os.path.abspath(\"..\"))\n",
    "\n",
    "import numpy as np\n",
    "import torch\n",
    "import matplotlib.pyplot as plt\n",
    "from ipywidgets import interact, IntSlider, FloatSlider\n",
    "\n",
    "from src.accelmd.targets.gmm import GMM\n",
    "\n",
    "\n",
    "def create_gmm(dim=2, n_mixes=5, loc_scaling=2.0, device=\"cpu\", seed=42):\n",
    "    \"\"\"Create a Gaussian Mixture Model with specified parameters.\"\"\"\n",
    "    torch.manual_seed(seed)\n",
    "    return GMM(\n",
    "        dim=dim,\n",
    "        n_mixes=n_mixes,\n",
    "        loc_scaling=loc_scaling,\n",
    "        seed=seed,\n",
    "        device=device\n",
    "    )\n",
    "\n",
    "\n",
    "def plot_gmm_contour(gmm, bounds=(-5, 5), resolution=100):\n",
    "    \"\"\"\n",
    "    Create a simple contour plot of the GMM distribution.\n",
    "    \n",
    "    Args:\n",
    "        gmm: The GMM distribution object\n",
    "        bounds: The (min, max) bounds for both x and y axes\n",
    "        resolution: Grid resolution for visualization\n",
    "    \"\"\"\n",
    "    x = np.linspace(bounds[0], bounds[1], resolution)\n",
    "    y = np.linspace(bounds[0], bounds[1], resolution)\n",
    "    X, Y = np.meshgrid(x, y)\n",
    "\n",
    "    points = np.column_stack([X.flatten(), Y.flatten()])\n",
    "    points_tensor = torch.tensor(points, dtype=torch.float32, device=gmm.device)\n",
    "\n",
    "    log_probs = gmm.log_prob(points_tensor).cpu().numpy()\n",
    "    Z = np.exp(log_probs).reshape(X.shape)\n",
    "\n",
    "    plt.figure(figsize=(10, 8))\n",
    "    contour = plt.contourf(X, Y, Z, levels=20, cmap='viridis')\n",
    "    plt.colorbar(contour)\n",
    "    plt.xlabel('X')\n",
    "    plt.ylabel('Y')\n",
    "    plt.title('GMM Contour Plot')\n",
    "    \n",
    "    return plt.gcf()"
   ]
  },
  {
   "cell_type": "code",
   "execution_count": 5,
   "metadata": {},
   "outputs": [],
   "source": [
    "# ─── Cell 2 ───\n",
    "# fixed globals for the wrapper\n",
    "device     = \"cuda\" if torch.cuda.is_available() else \"cpu\"\n",
    "_bounds    = (-5, 5)\n",
    "_resolution= 100\n",
    "\n",
    "\n",
    "def interactive_gmm(dim, n_mixes, loc_scaling):\n",
    "    \"\"\"\n",
    "    Wrapper that only takes (dim, n_mixes, loc_scaling),\n",
    "    so interact() won’t accidentally reassign `bounds` or `resolution`.\n",
    "    \"\"\"\n",
    "    gmm = create_gmm(\n",
    "        dim=dim,\n",
    "        n_mixes=n_mixes,\n",
    "        loc_scaling=loc_scaling,\n",
    "        device=device\n",
    "    )\n",
    "    fig = plot_gmm_contour(gmm, bounds=_bounds, resolution=_resolution)\n",
    "    plt.show()"
   ]
  },
  {
   "cell_type": "code",
   "execution_count": 6,
   "metadata": {},
   "outputs": [
    {
     "data": {
      "application/vnd.jupyter.widget-view+json": {
       "model_id": "aabe800a3872459fb1e84426f967f6e1",
       "version_major": 2,
       "version_minor": 0
      },
      "text/plain": [
       "interactive(children=(IntSlider(value=2, description='dim', max=5, min=2), IntSlider(value=5, description='n_m…"
      ]
     },
     "metadata": {},
     "output_type": "display_data"
    },
    {
     "data": {
      "text/plain": [
       "<function __main__.interactive_gmm(dim, n_mixes, loc_scaling)>"
      ]
     },
     "execution_count": 6,
     "metadata": {},
     "output_type": "execute_result"
    }
   ],
   "source": [
    "# ─── Cell 3 ───\n",
    "# finally—hook up the three sliders\n",
    "interact(\n",
    "    interactive_gmm,\n",
    "    dim=IntSlider(min=2, max=5, step=1,   value=2, description=\"dim\"),\n",
    "    n_mixes=IntSlider(min=1, max=10, step=1,value=5, description=\"n_mixes\"),\n",
    "    loc_scaling=FloatSlider(min=0.1, max=10.0, step=0.1, value=2.0, description=\"loc_scaling\")\n",
    ")"
   ]
  },
  {
   "cell_type": "markdown",
   "metadata": {
    "jp-MarkdownHeadingCollapsed": true
   },
   "source": [
    "# Introduction\n",
    "In this notebook, you could simulate samples with shape (num_temperature, num_chains, num_steps, dim) using **Parallel Tempering**.\n",
    "\n",
    "For test, you can simulate a 40-mode Mixture of Gaussian in 2-dimensional space.\n",
    "\n",
    "For Alanine Dipeptide (ALDP), You can either simulate either in: \n",
    "    1. internal coordinate, *i.e.* torsional angles etc, using AldpPotential; or \n",
    "    2. Cartesian coordinate, *i.e.* the 3D coordinate of each atom, using AldpPotentialCart\n"
   ]
  },
  {
   "cell_type": "code",
   "execution_count": 7,
   "metadata": {},
   "outputs": [],
   "source": [
    "\"\"\"\n",
    "Download the data first\n",
    "\"\"\"\n",
    "os.makedirs(\"data/\", exist_ok=True)\n",
    "os.makedirs(\"data/aldp/\", exist_ok=True)"
   ]
  },
  {
   "cell_type": "code",
   "execution_count": 4,
   "metadata": {},
   "outputs": [
    {
     "name": "stdout",
     "output_type": "stream",
     "text": [
      "--2025-06-10 10:16:15--  https://zenodo.org/records/6993124/files/train.h5?download=1\n",
      "Resolving zenodo.org (zenodo.org)... 188.185.48.194, 188.185.45.92, 188.185.43.25, ...\n",
      "Connecting to zenodo.org (zenodo.org)|188.185.48.194|:443... connected.\n",
      "HTTP request sent, awaiting response... 200 OK\n",
      "Length: 220172366 (210M) [application/octet-stream]\n",
      "Saving to: ‘data/pt/train.h5’\n",
      "\n",
      "data/pt/train.h5    100%[===================>] 209.97M  32.5MB/s    in 5.9s    \n",
      "\n",
      "2025-06-10 10:16:21 (35.7 MB/s) - ‘data/pt/train.h5’ saved [220172366/220172366]\n",
      "\n"
     ]
    }
   ],
   "source": [
    "!wget -O data/pt/train.h5 \"https://zenodo.org/records/6993124/files/train.h5?download=1\""
   ]
  },
  {
   "cell_type": "markdown",
   "metadata": {},
   "source": [
    "## Set up your config\n",
    "You need to set:\n",
    "1. target distribution: \"gmm\"/\"aldp_inter\"/\"aldp_cart\"\n",
    "2. temperature: \n",
    "    - schedule: \"geom\"/\"linear\"\n",
    "    - max temperature\n",
    "    - min temperature\n",
    "    - num. of temperature\n",
    "3. how many chains you want to run parallely. \n",
    " - FYI: the \"chain\" here is totally different from \"num. of temperature\", it refers to how many copies of PT you want to run simultainously\n",
    "4. (optional) Your wandb account, for logging metrics like swap rate. Please set your wandb in \"configs/logger/wandb.yaml\"\n",
    "\n",
    "For simplicity, I didn't use yaml files in this toy notebook. But you could find different config in configs/pt"
   ]
  },
  {
   "cell_type": "code",
   "execution_count": 9,
   "metadata": {},
   "outputs": [
    {
     "name": "stderr",
     "output_type": "stream",
     "text": [
      "\u001b[34m\u001b[1mwandb\u001b[0m: Currently logged in as: \u001b[33mjaf98\u001b[0m (\u001b[33mjaf98-university-of-cambridge\u001b[0m) to \u001b[32mhttps://api.wandb.ai\u001b[0m. Use \u001b[1m`wandb login --relogin`\u001b[0m to force relogin\n"
     ]
    },
    {
     "data": {
      "text/html": [
       "Waiting for wandb.init()..."
      ],
      "text/plain": [
       "<IPython.core.display.HTML object>"
      ]
     },
     "metadata": {},
     "output_type": "display_data"
    },
    {
     "data": {
      "text/html": [
       "Tracking run with wandb version 0.19.10"
      ],
      "text/plain": [
       "<IPython.core.display.HTML object>"
      ]
     },
     "metadata": {},
     "output_type": "display_data"
    },
    {
     "data": {
      "text/html": [
       "Run data is saved locally in <code>/rds/user/jaf98/hpc-work/accelerate-md/wandb/run-20250522_182456-6g45rjre</code>"
      ],
      "text/plain": [
       "<IPython.core.display.HTML object>"
      ]
     },
     "metadata": {},
     "output_type": "display_data"
    },
    {
     "data": {
      "text/html": [
       "Syncing run <strong><a href='https://wandb.ai/jaf98-university-of-cambridge/accelerate-md/runs/6g45rjre' target=\"_blank\">pretty-eon-1</a></strong> to <a href='https://wandb.ai/jaf98-university-of-cambridge/accelerate-md' target=\"_blank\">Weights & Biases</a> (<a href='https://wandb.me/developer-guide' target=\"_blank\">docs</a>)<br>"
      ],
      "text/plain": [
       "<IPython.core.display.HTML object>"
      ]
     },
     "metadata": {},
     "output_type": "display_data"
    },
    {
     "data": {
      "text/html": [
       " View project at <a href='https://wandb.ai/jaf98-university-of-cambridge/accelerate-md' target=\"_blank\">https://wandb.ai/jaf98-university-of-cambridge/accelerate-md</a>"
      ],
      "text/plain": [
       "<IPython.core.display.HTML object>"
      ]
     },
     "metadata": {},
     "output_type": "display_data"
    },
    {
     "data": {
      "text/html": [
       " View run at <a href='https://wandb.ai/jaf98-university-of-cambridge/accelerate-md/runs/6g45rjre' target=\"_blank\">https://wandb.ai/jaf98-university-of-cambridge/accelerate-md/runs/6g45rjre</a>"
      ],
      "text/plain": [
       "<IPython.core.display.HTML object>"
      ]
     },
     "metadata": {},
     "output_type": "display_data"
    },
    {
     "data": {
      "text/html": [
       "<button onClick=\"this.nextSibling.style.display='block';this.style.display='none';\">Display W&B run</button><iframe src='https://wandb.ai/jaf98-university-of-cambridge/accelerate-md/runs/6g45rjre?jupyter=true' style='border:none;width:100%;height:420px;display:none;'></iframe>"
      ],
      "text/plain": [
       "<wandb.sdk.wandb_run.Run at 0x154909375110>"
      ]
     },
     "execution_count": 9,
     "metadata": {},
     "output_type": "execute_result"
    }
   ],
   "source": [
    "import wandb\n",
    "wandb.init(project=\"accelerate-md\")"
   ]
  },
  {
   "cell_type": "code",
   "execution_count": 10,
   "metadata": {},
   "outputs": [],
   "source": [
    "torch.manual_seed(0)\n",
    "device = torch.device(\"cuda:0\" if torch.cuda.is_available() else \"cpu\")\n",
    "config = {\n",
    "    \"name\": \"gmm\",  # gmm or aldp_inter or aldp_cart\n",
    "    \"temp_schedule\": \"geom\",  # geom/linear, we usually use the geometrical schedule, but you could play\n",
    "    \"temp_low\": 1.0,\n",
    "    \"temp_high\": 100.,\n",
    "    \"total_n_temp\": 10,\n",
    "    \"num_chains\": 1,\n",
    "    \"num_steps\": 1000, # number of steps for PT simulation\n",
    "    \"step_size\": 0.0001, # step size of MCMC\n",
    "    \"swap_interval\": 100, # how often to swap samples between different temperatures\n",
    "    \"check_interval\": 10000,  # how many steps to evaluate the samples\n",
    "    \"plot_fold\": \"plots\",  # set where you save the plots\n",
    "    \"save_fold\": \"results\",  # set where you save the results\n",
    "    \"use_wandb\": False,\n",
    "    \"device\": device\n",
    "}"
   ]
  },
  {
   "cell_type": "markdown",
   "metadata": {},
   "source": [
    "## Set up"
   ]
  },
  {
   "cell_type": "code",
   "execution_count": 11,
   "metadata": {},
   "outputs": [],
   "source": [
    "\"\"\"\n",
    "Set up WandB\n",
    "\"\"\"\n",
    "if config[\"use_wandb\"]:\n",
    "    with open('configs/logger/wandb.yaml', 'r') as file:\n",
    "        wandb_config = yaml.safe_load(file)\n",
    "\n",
    "    wandb_config['tags'] = ['PT', config[\"name\"]]\n",
    "    wandb_config['group'] = config[\"name\"]\n",
    "    wandb.init(\n",
    "        entity=wandb_config['entity'],\n",
    "        project=wandb_config['project'],\n",
    "        mode=\"online\" if not wandb_config['offline'] else \"offline\",\n",
    "        group=wandb_config['group'],\n",
    "        tags=wandb_config['tags'],\n",
    "        config=config\n",
    "    )"
   ]
  },
  {
   "cell_type": "code",
   "execution_count": 12,
   "metadata": {},
   "outputs": [],
   "source": [
    "\"\"\"\n",
    "Set up temperatures\n",
    "\"\"\"\n",
    "if config[\"temp_schedule\"] == 'geom':\n",
    "    all_temps = torch.from_numpy(np.geomspace(config[\"temp_low\"], config[\"temp_high\"], config[\"total_n_temp\"])).float().to(config[\"device\"])\n",
    "elif config[\"temp_schedule\"] == 'linear':\n",
    "    all_temps = torch.linspace(config[\"temp_low\"], config[\"temp_high\"], config[\"total_n_temp\"]).float().to(config[\"device\"])"
   ]
  },
  {
   "cell_type": "code",
   "execution_count": 13,
   "metadata": {},
   "outputs": [],
   "source": [
    "\"\"\"\n",
    "Set up target distribution\n",
    "\"\"\"\n",
    "if config[\"name\"] == \"gmm\":\n",
    "    dim = 2\n",
    "    target = GMM(dim=dim, n_mixes=40, loc_scaling=40., log_var_scaling=1.0, seed=0, n_test_set_samples=1000, device=config[\"device\"])\n",
    "\n",
    "elif config[\"name\"] == \"aldp_inter\":\n",
    "    from src.accelmd.targets.aldp.potential import get_aldp_potential\n",
    "    dim = 60\n",
    "    aldp_config_path = \"configs/aldp.yaml\"\n",
    "    target = get_aldp_potential(aldp_config_path, device=config[\"device\"])\n",
    "\n",
    "elif config[\"name\"] == \"aldp_cart\":\n",
    "    from src.accelmd.targets.aldp.cartesian import get_aldp_potential\n",
    "    dim = 66\n",
    "    aldp_config_path = \"configs/aldp.yaml\"\n",
    "    target = get_aldp_potential(aldp_config_path, device=config[\"device\"])\n",
    "else:\n",
    "    raise ValueError(\"Unknown target\")"
   ]
  },
  {
   "cell_type": "code",
   "execution_count": 14,
   "metadata": {},
   "outputs": [],
   "source": [
    "\"\"\"\n",
    "Set up plot-saving path\n",
    "\"\"\"\n",
    "plot_path = f\"{config['plot_fold']}/{config['name']}\"\n",
    "os.makedirs(config[\"plot_fold\"], exist_ok=True)\n",
    "os.makedirs(plot_path, exist_ok=True)"
   ]
  },
  {
   "cell_type": "markdown",
   "metadata": {},
   "source": [
    "# PT Simulation"
   ]
  },
  {
   "cell_type": "markdown",
   "metadata": {},
   "source": [
    "## 1. Choose the initial location to start running PT"
   ]
  },
  {
   "cell_type": "code",
   "execution_count": 15,
   "metadata": {},
   "outputs": [],
   "source": [
    "if config[\"name\"] == \"aldp\":\n",
    "    init_position_file = yaml.safe_load(open(aldp_config_path, \"r\")).get(\"data\", {}).get(\"transform\")\n",
    "    x_init = torch.load(init_position_file, map_location=config[\"device\"])\n",
    "    x_init = target.coordinate_transform.inverse(x_init)[0]\n",
    "    x_init = x_init.unsqueeze(0).repeat(config[\"total_n_temp\"], config[\"num_chains\"], 1)\n",
    "elif config[\"name\"] == \"aldp_cart\":\n",
    "    init_position_file = yaml.safe_load(open(aldp_config_path, \"r\")).get(\"data\", {}).get(\"transform\")\n",
    "    x_init = torch.load(init_position_file, map_location=config[\"device\"])\n",
    "    x_init = x_init.unsqueeze(0).repeat(config[\"total_n_temp\"], config[\"num_chains\"], 1)\n",
    "else:\n",
    "    x_init = torch.randn((config[\"total_n_temp\"], config[\"num_chains\"], dim), device=config[\"device\"])*0.01"
   ]
  },
  {
   "cell_type": "markdown",
   "metadata": {},
   "source": [
    "## 2. Create the PT sampler object\n",
    "The PT sampler object is then wrapped by the *DynSamplerWrapper*, which allows us to dynamically adjust the step size of MCMC at each temperature. The default setting is to make sure the acceptance rate of MH remains around 60%, and the hyperparameter *alpha* controls the strength of adjusting."
   ]
  },
  {
   "cell_type": "code",
   "execution_count": 16,
   "metadata": {},
   "outputs": [
    {
     "name": "stderr",
     "output_type": "stream",
     "text": [
      "Parallel Tempering:   0%|          | 0/1000 [00:00<?, ?it/s]/rds/user/jaf98/hpc-work/accelerate-md/src/accelmd/samplers/mcmc/langevin.py:64: UserWarning: To copy construct from a tensor, it is recommended to use sourceTensor.clone().detach() or sourceTensor.clone().detach().requires_grad_(True), rather than torch.tensor(sourceTensor).\n",
      "  x_p = x_c - self.step_size * grad_xc + torch.sqrt(torch.tensor(2.0*self.step_size, device=self.device)) * torch.randn_like(self.x, device=self.device)\n",
      "Parallel Tempering:   4%|▍         | 44/1000 [00:00<00:04, 217.66it/s, acc rate: 0.901674747467041] "
     ]
    },
    {
     "name": "stderr",
     "output_type": "stream",
     "text": [
      "Parallel Tempering: 100%|██████████| 1000/1000 [00:04<00:00, 233.49it/s, acc rate: 0.509364128112793] \n"
     ]
    }
   ],
   "source": [
    "pt = ParallelTempering(x=x_init,\n",
    "                       energy_func=lambda x: -target.log_prob(x),\n",
    "                       step_size=torch.tensor([config[\"step_size\"]] * (config[\"total_n_temp\"] * config[\"num_chains\"]), device=config[\"device\"]).unsqueeze(-1),\n",
    "                       swap_interval=config[\"swap_interval\"],\n",
    "                       temperatures=all_temps,\n",
    "                       mh=True,\n",
    "                       device=config[\"device\"])\n",
    "pt = DynSamplerWrapper(pt, per_temp=True, total_n_temp=config[\"total_n_temp\"], target_acceptance_rate=0.6, alpha=0.25)\n",
    "progress_bar = tqdm(range(config[\"num_steps\"]), desc=\"Parallel Tempering\")\n",
    "swap_rates = []\n",
    "traj = []\n",
    "for i in progress_bar:\n",
    "    \"\"\"\n",
    "    The following two lines are almost all you need for sampling from PT\n",
    "    \"\"\"\n",
    "    new_samples, acc, *_ = pt.sample()\n",
    "    traj.append(new_samples.clone().detach().cpu().float())\n",
    "\n",
    "    \"\"\"\n",
    "    The following codes are logging useful information\n",
    "    \"\"\"\n",
    "    if pt.sampler.swap_rates:\n",
    "        swap_rates.append(pt.sampler.swap_rates)\n",
    "        if wandb.run is not None:\n",
    "            for j in range(len(all_temps) - 1):\n",
    "                wandb.log({f\"swap_rates/{all_temps[j].item():.2f}~{all_temps[j + 1].item():.2f}\": pt.sampler.swap_rates[j]}, step=i)\n",
    "    if (i + 1) % config[\"check_interval\"] == 0:\n",
    "        os.makedirs(config[\"save_fold\"], exist_ok=True)\n",
    "        torch.save(torch.stack(traj, dim=2)[0].detach().cpu().float(), f\"{config['save_fold']}/pt_{config['name']}.pt\")\n",
    "        if isinstance(target, AldpPotential) or isinstance(target, AldpPotentialCart):\n",
    "            sub_plot_path = f\"{plot_path}/{i + 1}\"\n",
    "            os.makedirs(sub_plot_path, exist_ok=True)\n",
    "            images_dict = target.plot_samples(torch.stack(traj[-config[\"check_interval\"]:], dim=2)[0].reshape(-1, dim).to(config[\"device\"]), target.sample(1000000), i, sub_plot_path, sub_plot_path, 1000000)\n",
    "            if wandb.run is not None:\n",
    "                for key, value in images_dict.items():\n",
    "                    wandb.log({f\"{key}\": wandb.Image(value)}, step=i)\n",
    "        else:\n",
    "            plt.figure(figsize=(6, 6))\n",
    "            target.plot_samples(samples_list=[torch.stack(traj[-config[\"check_interval\"]:], dim=2)[0].reshape(-1, dim),\n",
    "                                            target.sample([config[\"check_interval\"]])],\n",
    "                                labels_list=[\"pt\", \"gt\"],\n",
    "                                alpha=0.5,)\n",
    "            plt.legend()\n",
    "            if wandb.run is not None:\n",
    "                wandb.log({\"samples\": wandb.Image(plt)}, step=i)\n",
    "            plt.close()\n",
    "    if wandb.run is not None:\n",
    "        for j in range(len(all_temps)):\n",
    "            wandb.log({f\"acc_rates/{all_temps[j].item():.2f}\": acc[j].item()}, step=i)\n",
    "    progress_bar.set_postfix_str(f\"acc rate: {acc.mean().item()}\")\n",
    "traj = torch.stack(traj, dim=2)\n",
    "os.makedirs(config[\"save_fold\"], exist_ok=True)\n",
    "torch.save(traj.detach().cpu().float(), f\"{config['save_fold']}/pt_{config['name']}.pt\")"
   ]
  },
  {
   "cell_type": "markdown",
   "metadata": {},
   "source": [
    "## Example evaluation for GMM\n",
    "Run the following codes for visualization of samples from PT if you are sampling from Mixture of Gaussian"
   ]
  },
  {
   "cell_type": "code",
   "execution_count": 17,
   "metadata": {},
   "outputs": [
    {
     "data": {
      "text/plain": [
       "torch.Size([10, 1, 1000, 2])"
      ]
     },
     "execution_count": 17,
     "metadata": {},
     "output_type": "execute_result"
    }
   ],
   "source": [
    "traj.shape"
   ]
  },
  {
   "cell_type": "code",
   "execution_count": 18,
   "metadata": {},
   "outputs": [
    {
     "data": {
      "image/png": "[encoded data removed]",
      "text/plain": [
       "<Figure size 640x480 with 1 Axes>"
      ]
     },
     "metadata": {},
     "output_type": "display_data"
    }
   ],
   "source": [
    "true_samples = target.sample((10000,))\n",
    "pt_samples = traj[0, 0, :, :]\n",
    "plt.figure()\n",
    "plt.scatter(pt_samples[:, 0].detach().cpu().numpy(), pt_samples[:, 1].detach().cpu().numpy(), alpha=0.5, label=\"PT\")\n",
    "plt.scatter(true_samples[:, 0].detach().cpu().numpy(), true_samples[:, 1].detach().cpu().numpy(), alpha=0.5, label=\"Ground Truth\")\n",
    "plt.legend(loc=\"upper right\")\n",
    "plt.show()"
   ]
  },
  {
   "cell_type": "code",
   "execution_count": null,
   "metadata": {},
   "outputs": [],
   "source": []
  }
 ],
 "metadata": {
  "kernelspec": {
   "display_name": "Python (accelmd)",
   "language": "python",
   "name": "accelmd"
  },
  "language_info": {
   "codemirror_mode": {
    "name": "ipython",
    "version": 3
   },
   "file_extension": ".py",
   "mimetype": "text/x-python",
   "name": "python",
   "nbconvert_exporter": "python",
   "pygments_lexer": "ipython3",
   "version": "3.11.12"
  }
 },
 "nbformat": 4,
 "nbformat_minor": 4
}
